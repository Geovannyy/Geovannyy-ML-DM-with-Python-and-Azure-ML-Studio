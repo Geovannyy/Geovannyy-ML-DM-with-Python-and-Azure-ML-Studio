{
 "cells": [
  {
   "cell_type": "markdown",
   "metadata": {},
   "source": [
    "# Recepie Review and User Feedback Dataset"
   ]
  },
  {
   "cell_type": "markdown",
   "metadata": {},
   "source": [
    "# CRIPS - DM Methodology\n",
    " 1. Bussiness Understanding.\n",
    " 2. Data Understanding. \n",
    " 3. Data Preparation.\n",
    " 4. Modelling. \n",
    " 5. Evaluation. \n",
    " 6. Deplotment."
   ]
  },
  {
   "cell_type": "markdown",
   "metadata": {},
   "source": [
    "#### 1.Bussiness Understanding"
   ]
  },
  {
   "cell_type": "markdown",
   "metadata": {},
   "source": [
    "\n",
    "- Recepies names information.\n",
    "- The recepies has ranking on the top 100 best.\n",
    "- Internal user reputation score (might have different weights based on their reputation)\n",
    "- Comments has unique ID (most import up-votes).\n",
    "- qualify sentimen 1 to 5 / 0 denoting absence of rating\n",
    "\n",
    "- Bussiness can develop recomender systems \n",
    "- Bussiness can develop behavior analysis "
   ]
  },
  {
   "cell_type": "markdown",
   "metadata": {},
   "source": [
    "#### 2.Data Understanding"
   ]
  },
  {
   "cell_type": "markdown",
   "metadata": {},
   "source": [
    "#### 3.Data Preparation"
   ]
  },
  {
   "cell_type": "markdown",
   "metadata": {},
   "source": [
    "#### 4.Modelling"
   ]
  },
  {
   "cell_type": "markdown",
   "metadata": {},
   "source": [
    "#### 5.Evaluation"
   ]
  },
  {
   "cell_type": "markdown",
   "metadata": {},
   "source": [
    "#### 6.Deployment"
   ]
  }
 ],
 "metadata": {
  "kernelspec": {
   "display_name": "ml_enviroment",
   "language": "python",
   "name": "python3"
  },
  "language_info": {
   "codemirror_mode": {
    "name": "ipython",
    "version": 3
   },
   "file_extension": ".py",
   "mimetype": "text/x-python",
   "name": "python",
   "nbconvert_exporter": "python",
   "pygments_lexer": "ipython3",
   "version": "3.10.15"
  }
 },
 "nbformat": 4,
 "nbformat_minor": 2
}
