{
 "cells": [],
 "metadata": {
  "kernelspec": {
   "display_name": "ml_enviroment",
   "language": "python",
   "name": "python3"
  },
  "language_info": {
   "name": "python",
   "version": "3.10.15"
  }
 },
 "nbformat": 4,
 "nbformat_minor": 2
}
